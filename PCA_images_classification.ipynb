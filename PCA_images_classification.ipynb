{
  "nbformat": 4,
  "nbformat_minor": 0,
  "metadata": {
    "colab": {
      "name": "PCA_images_classification.ipynb",
      "provenance": [],
      "collapsed_sections": []
    },
    "kernelspec": {
      "name": "python3",
      "display_name": "Python 3"
    },
    "language_info": {
      "name": "python"
    }
  },
  "cells": [
    {
      "cell_type": "markdown",
      "source": [
        "Using PCA in Image classification"
      ],
      "metadata": {
        "id": "BLKty6q6IyUU"
      }
    },
    {
      "cell_type": "code",
      "execution_count": null,
      "metadata": {
        "id": "h30U6YoMXgZ9"
      },
      "outputs": [],
      "source": [
        "from keras.datasets import fashion_mnist\n",
        "from xgboost import XGBClassifier\n",
        "from sklearn.decomposition import PCA\n",
        "from sklearn.metrics import accuracy_score, confusion_matrix\n",
        "import time"
      ]
    },
    {
      "cell_type": "code",
      "source": [
        "(X_train, y_train), (X_test, y_test) = fashion_mnist.load_data()"
      ],
      "metadata": {
        "id": "0ceeg3HAYT3J"
      },
      "execution_count": null,
      "outputs": []
    },
    {
      "cell_type": "code",
      "source": [
        "# Reshape the data to create the features columns as pixel values in every image\n",
        "d1, d2, d3 = X_train.shape\n",
        "X_train = X_train.reshape(d1, d2*d3)\n",
        "d1, d2, d3 = X_test.shape\n",
        "X_test = X_test.reshape(d1, d2*d3)"
      ],
      "metadata": {
        "id": "MK9TTNEUZbLl"
      },
      "execution_count": null,
      "outputs": []
    },
    {
      "cell_type": "code",
      "source": [
        "# Classification model with pixels as features\n",
        "start_time = time.time()\n",
        "grad_boost_model = XGBClassifier()\n",
        "hist = grad_boost_model.fit(X_train,y_train)\n",
        "pred = grad_boost_model.predict(X_test)\n",
        "print(\"--- %s seconds ---\" % (time.time() - start_time))"
      ],
      "metadata": {
        "colab": {
          "base_uri": "https://localhost:8080/"
        },
        "id": "agwBdd0zaq0v",
        "outputId": "800fbd72-ef27-4cf0-b584-52d6fba8d9fb"
      },
      "execution_count": null,
      "outputs": [
        {
          "output_type": "stream",
          "name": "stdout",
          "text": [
            "--- 972.5711069107056 seconds ---\n"
          ]
        }
      ]
    },
    {
      "cell_type": "code",
      "source": [
        "# Model evaluation in test data using Confusion matrix\n",
        "confusion_matrix(y_test, pred)"
      ],
      "metadata": {
        "colab": {
          "base_uri": "https://localhost:8080/"
        },
        "id": "wgVtDuIoghGR",
        "outputId": "5984b23a-8a90-4166-a8e8-b2b2fb39bc70"
      },
      "execution_count": null,
      "outputs": [
        {
          "output_type": "execute_result",
          "data": {
            "text/plain": [
              "array([[831,   0,   9,  43,   8,   1,  94,   0,  14,   0],\n",
              "       [  5, 958,   4,  24,   3,   0,   4,   0,   2,   0],\n",
              "       [ 15,   1, 761,   9, 138,   0,  70,   0,   6,   0],\n",
              "       [ 25,   6,  12, 894,  28,   0,  33,   0,   2,   0],\n",
              "       [  0,   1, 110,  37, 780,   0,  70,   0,   2,   0],\n",
              "       [  0,   0,   0,   1,   0, 940,   0,  37,   2,  20],\n",
              "       [157,   1, 124,  33,  92,   0, 575,   0,  18,   0],\n",
              "       [  0,   0,   0,   0,   0,  14,   0, 935,   0,  51],\n",
              "       [  0,   1,   9,   5,   6,   2,  11,   4, 960,   2],\n",
              "       [  0,   0,   0,   1,   0,   7,   1,  42,   1, 948]])"
            ]
          },
          "metadata": {},
          "execution_count": 30
        }
      ]
    },
    {
      "cell_type": "code",
      "source": [
        "# Full model accuracy\n",
        "accuracy_score(y_test, pred)"
      ],
      "metadata": {
        "colab": {
          "base_uri": "https://localhost:8080/"
        },
        "id": "P2reF2WVgvC2",
        "outputId": "38e61031-db5b-44e3-de8d-878c630a0840"
      },
      "execution_count": null,
      "outputs": [
        {
          "output_type": "execute_result",
          "data": {
            "text/plain": [
              "0.8582"
            ]
          },
          "metadata": {},
          "execution_count": 31
        }
      ]
    },
    {
      "cell_type": "code",
      "source": [
        "start_time = time.time()\n",
        "# Carry out Principal components on the feature dataset and examine classification with a smaller feature set\n",
        "# Define a PCA object with some 50 features as reduced dimension set\n",
        "princ_comp_model = PCA(n_components=50)\n",
        "princ_comp_model.fit(X_train)\n",
        "# Obtain a smaller dimension dataset with 50 columns (each for a component)\n",
        "X_train2 = princ_comp_model.transform(X_train)\n",
        "print(sum(princ_comp_model.explained_variance_ratio_))\n",
        "# Define a XGBClassifier to build a model on reduced dimension X_train2\n",
        "grad_boost_model2 = XGBClassifier()\n",
        "hist2 = grad_boost_model2.fit(X_train2,y_train)\n",
        "# Transform test dataset to reduced dimension dataset(50 components)\n",
        "X_test2 = princ_comp_model.transform(X_test)\n",
        "pred2 = grad_boost_model2.predict(X_test2)\n",
        "print(\"--- %s seconds ---\" % (time.time() - start_time))"
      ],
      "metadata": {
        "colab": {
          "base_uri": "https://localhost:8080/"
        },
        "id": "QJX7j7f6x1tx",
        "outputId": "43b14d05-bfe1-4b77-a135-4296292a6fbd"
      },
      "execution_count": null,
      "outputs": [
        {
          "output_type": "stream",
          "name": "stdout",
          "text": [
            "0.8626283168567077\n",
            "--- 219.01335406303406 seconds ---\n"
          ]
        }
      ]
    },
    {
      "cell_type": "code",
      "source": [
        "# Model evaluation using Confusion Matrix\n",
        "confusion_matrix(y_test, pred2)"
      ],
      "metadata": {
        "colab": {
          "base_uri": "https://localhost:8080/"
        },
        "id": "V6nlPL3oIDq_",
        "outputId": "2c0e6046-4b17-42b5-83f1-19a6d1d63916"
      },
      "execution_count": null,
      "outputs": [
        {
          "output_type": "execute_result",
          "data": {
            "text/plain": [
              "array([[815,   1,  16,  55,  11,   4,  82,   0,  16,   0],\n",
              "       [  7, 948,   8,  32,   2,   0,   1,   0,   2,   0],\n",
              "       [ 18,   1, 725,   9, 132,   2, 102,   0,  11,   0],\n",
              "       [ 36,  10,   7, 867,  32,   1,  43,   0,   3,   1],\n",
              "       [  1,   2, 103,  43, 751,   3,  88,   0,   9,   0],\n",
              "       [  0,   0,   0,   2,   0, 891,   0,  64,   3,  40],\n",
              "       [207,   1, 134,  38, 107,   1, 486,   0,  26,   0],\n",
              "       [  0,   0,   0,   0,   0,  40,   0, 894,   1,  65],\n",
              "       [  4,   0,  13,   9,   3,  12,  22,   8, 926,   3],\n",
              "       [  0,   0,   0,   0,   0,  21,   0,  36,   1, 942]])"
            ]
          },
          "metadata": {},
          "execution_count": 33
        }
      ]
    },
    {
      "cell_type": "code",
      "source": [
        "accuracy_score(y_test, pred2)"
      ],
      "metadata": {
        "colab": {
          "base_uri": "https://localhost:8080/"
        },
        "id": "BMXt9CRHIgGM",
        "outputId": "cf96a6c1-36d6-4599-805e-056d3b078747"
      },
      "execution_count": null,
      "outputs": [
        {
          "output_type": "execute_result",
          "data": {
            "text/plain": [
              "0.8245"
            ]
          },
          "metadata": {},
          "execution_count": 34
        }
      ]
    },
    {
      "cell_type": "markdown",
      "source": [
        "Reasonable accuracy was achieved along with saving time by using PCA of image features."
      ],
      "metadata": {
        "id": "GRzbfX2OTLjH"
      }
    }
  ]
}